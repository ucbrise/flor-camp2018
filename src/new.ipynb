{
 "cells": [
  {
   "cell_type": "code",
   "execution_count": 2,
   "metadata": {},
   "outputs": [],
   "source": [
    "import pandas as pd\n",
    "import numpy as np\n",
    "import nltk\n",
    "import stop_words\n",
    "import util\n",
    "import os\n",
    "\n",
    "from sklearn.feature_extraction.text import CountVectorizer\n",
    "from sklearn.naive_bayes import MultinomialNB\n",
    "from sklearn.svm import SVR\n",
    "from sklearn.decomposition import TruncatedSVD\n",
    "from sklearn.ensemble import RandomForestRegressor\n",
    "from sklearn.model_selection import train_test_split\n",
    "from sklearn.metrics import mean_squared_error\n",
    "from nltk.tokenize import RegexpTokenizer\n",
    "from stop_words import get_stop_words\n",
    "from nltk.stem.porter import PorterStemmer\n",
    "\n",
    "from constants import *"
   ]
  },
  {
   "cell_type": "code",
   "execution_count": 3,
   "metadata": {},
   "outputs": [],
   "source": [
    "data = pd.read_pickle('data.pkl')"
   ]
  },
  {
   "cell_type": "code",
   "execution_count": 4,
   "metadata": {},
   "outputs": [
    {
     "data": {
      "text/html": [
       "<div>\n",
       "<style scoped>\n",
       "    .dataframe tbody tr th:only-of-type {\n",
       "        vertical-align: middle;\n",
       "    }\n",
       "\n",
       "    .dataframe tbody tr th {\n",
       "        vertical-align: top;\n",
       "    }\n",
       "\n",
       "    .dataframe thead th {\n",
       "        text-align: right;\n",
       "    }\n",
       "</style>\n",
       "<table border=\"1\" class=\"dataframe\">\n",
       "  <thead>\n",
       "    <tr style=\"text-align: right;\">\n",
       "      <th></th>\n",
       "      <th>text</th>\n",
       "      <th>rating</th>\n",
       "    </tr>\n",
       "  </thead>\n",
       "  <tbody>\n",
       "    <tr>\n",
       "      <th>0</th>\n",
       "      <td>For a movie that gets no respect there sure ar...</td>\n",
       "      <td>9</td>\n",
       "    </tr>\n",
       "    <tr>\n",
       "      <th>1</th>\n",
       "      <td>Bizarre horror movie filled with famous faces ...</td>\n",
       "      <td>8</td>\n",
       "    </tr>\n",
       "    <tr>\n",
       "      <th>2</th>\n",
       "      <td>A solid, if unremarkable film. Matthau, as Ein...</td>\n",
       "      <td>7</td>\n",
       "    </tr>\n",
       "    <tr>\n",
       "      <th>3</th>\n",
       "      <td>It's a strange feeling to sit alone in a theat...</td>\n",
       "      <td>8</td>\n",
       "    </tr>\n",
       "    <tr>\n",
       "      <th>4</th>\n",
       "      <td>You probably all already know this by now, but...</td>\n",
       "      <td>10</td>\n",
       "    </tr>\n",
       "  </tbody>\n",
       "</table>\n",
       "</div>"
      ],
      "text/plain": [
       "                                                text rating\n",
       "0  For a movie that gets no respect there sure ar...      9\n",
       "1  Bizarre horror movie filled with famous faces ...      8\n",
       "2  A solid, if unremarkable film. Matthau, as Ein...      7\n",
       "3  It's a strange feeling to sit alone in a theat...      8\n",
       "4  You probably all already know this by now, but...     10"
      ]
     },
     "execution_count": 4,
     "metadata": {},
     "output_type": "execute_result"
    }
   ],
   "source": [
    "data.head()"
   ]
  },
  {
   "cell_type": "code",
   "execution_count": 39,
   "metadata": {},
   "outputs": [],
   "source": [
    "X = data['text']\n",
    "y = data['rating'].astype(np.float64)"
   ]
  },
  {
   "cell_type": "code",
   "execution_count": 40,
   "metadata": {},
   "outputs": [],
   "source": [
    "from nltk.stem import WordNetLemmatizer\n",
    "from nltk.tokenize import word_tokenize\n",
    "\n",
    "\n",
    "en_stop = get_stop_words('en')\n",
    "#nltk.download('wordnet')\n",
    "#nltk.download('punkt')\n",
    "\n",
    "def filter_sentence(el):\n",
    "    tokens = word_tokenize(el)\n",
    "    tokens = [word for word in tokens if word.isalpha()]\n",
    "    tokens = [word for word in tokens if word not in en_stop]\n",
    "    stems = stem_words(tokens)\n",
    "    lemmas = lemma_words(stems)\n",
    "    \n",
    "    ret_str = \" \".join(lemmas) \n",
    "    \n",
    "    return ret_str \n",
    "\n",
    "\n",
    "#https://www.kdnuggets.com/2018/03/text-data-preprocessing-walkthrough-python.html\n",
    "def stem_words(words):\n",
    "    stemmer = PorterStemmer()\n",
    "    stems = []\n",
    "    for word in words:\n",
    "        stem = stemmer.stem(word)\n",
    "        stems.append(stem)\n",
    "    return stems\n",
    "\n",
    "def lemma_words(words):\n",
    "    lemmatizer = WordNetLemmatizer()\n",
    "    lemmas = []\n",
    "    for word in words:\n",
    "        lemma = lemmatizer.lemmatize(word, pos='v')\n",
    "        lemmas.append(lemma)\n",
    "    return lemmas\n",
    "\n",
    "X = [filter_sentence(el) for el in X]"
   ]
  },
  {
   "cell_type": "code",
   "execution_count": 65,
   "metadata": {},
   "outputs": [],
   "source": [
    "y_new = []\n",
    "for el in y:\n",
    "    ret = 0\n",
    "    if el <= 3:\n",
    "        ret = 0\n",
    "    elif el >= 4 and el <= 6:\n",
    "        ret = 1\n",
    "    else:\n",
    "        ret = 2\n",
    "    y_new.append(ret)"
   ]
  },
  {
   "cell_type": "code",
   "execution_count": 66,
   "metadata": {},
   "outputs": [
    {
     "data": {
      "image/png": "[encoded data removed]",
      "text/plain": [
       "<Figure size 432x288 with 1 Axes>"
      ]
     },
     "metadata": {},
     "output_type": "display_data"
    }
   ],
   "source": [
    "import matplotlib.pyplot as plt\n",
    "plt.hist(y_new)\n",
    "plt.show()"
   ]
  },
  {
   "cell_type": "code",
   "execution_count": 41,
   "metadata": {},
   "outputs": [
    {
     "name": "stdout",
     "output_type": "stream",
     "text": [
      "Shape of Sparse Matrix:  (50000, 66911)\n"
     ]
    }
   ],
   "source": [
    "from sklearn.feature_extraction.text import TfidfVectorizer\n",
    "vectorizer = TfidfVectorizer()\n",
    "X = vectorizer.fit_transform(X)\n",
    "print('Shape of Sparse Matrix: ', X.shape)"
   ]
  },
  {
   "cell_type": "code",
   "execution_count": 46,
   "metadata": {},
   "outputs": [
    {
     "name": "stdout",
     "output_type": "stream",
     "text": [
      "[[2841    0 1057]\n",
      " [ 450    0  639]\n",
      " [ 240    0 4773]]\n",
      "\n",
      "\n",
      "             precision    recall  f1-score   support\n",
      "\n",
      "          0       0.80      0.73      0.76      3898\n",
      "          1       0.00      0.00      0.00      1089\n",
      "          2       0.74      0.95      0.83      5013\n",
      "\n",
      "avg / total       0.68      0.76      0.71     10000\n",
      "\n"
     ]
    },
    {
     "name": "stderr",
     "output_type": "stream",
     "text": [
      "/usr/local/lib/python3.6/site-packages/sklearn/metrics/classification.py:1135: UndefinedMetricWarning: Precision and F-score are ill-defined and being set to 0.0 in labels with no predicted samples.\n",
      "  'precision', 'predicted', average, warn_for)\n"
     ]
    }
   ],
   "source": [
    "X_train, X_test, y_train, y_test = train_test_split(X, y_new, test_size=0.20, random_state=92)\n",
    "\n",
    "from sklearn.naive_bayes import MultinomialNB\n",
    "nb = MultinomialNB()\n",
    "nb.fit(X_train, y_train)\n",
    "\n",
    "y_pred = nb.predict(X_test)\n",
    "\n",
    "from sklearn.metrics import confusion_matrix, classification_report\n",
    "print(confusion_matrix(y_test, y_pred))\n",
    "print('\\n')\n",
    "print(classification_report(y_test, y_pred))"
   ]
  },
  {
   "cell_type": "code",
   "execution_count": 60,
   "metadata": {},
   "outputs": [
    {
     "name": "stdout",
     "output_type": "stream",
     "text": [
      "[[2954    0  944]\n",
      " [ 531   15  543]\n",
      " [ 375    0 4638]]\n",
      "\n",
      "\n",
      "             precision    recall  f1-score   support\n",
      "\n",
      "          0       0.77      0.76      0.76      3898\n",
      "          1       1.00      0.01      0.03      1089\n",
      "          2       0.76      0.93      0.83      5013\n",
      "\n",
      "avg / total       0.79      0.76      0.72     10000\n",
      "\n"
     ]
    }
   ],
   "source": [
    "from sklearn.ensemble import RandomForestClassifier\n",
    "X_train, X_test, y_train, y_test = train_test_split(X, y_new, test_size=0.20, random_state=92)\n",
    "\n",
    "clf = RandomForestClassifier(n_estimators=50).fit(X_train, y_train)\n",
    "y_pred = clf.predict(X_test)\n",
    "\n",
    "from sklearn.metrics import confusion_matrix, classification_report\n",
    "print(confusion_matrix(y_test, y_pred))\n",
    "print('\\n')\n",
    "print(classification_report(y_test, y_pred))"
   ]
  },
  {
   "cell_type": "code",
   "execution_count": 67,
   "metadata": {},
   "outputs": [
    {
     "name": "stdout",
     "output_type": "stream",
     "text": [
      "[[1924  519  425]\n",
      " [ 781 1237 1085]\n",
      " [ 239  544 3246]]\n",
      "\n",
      "\n",
      "             precision    recall  f1-score   support\n",
      "\n",
      "          0       0.65      0.67      0.66      2868\n",
      "          1       0.54      0.40      0.46      3103\n",
      "          2       0.68      0.81      0.74      4029\n",
      "\n",
      "avg / total       0.63      0.64      0.63     10000\n",
      "\n"
     ]
    }
   ],
   "source": [
    "X_new = TruncatedSVD(n_components=50).fit_transform(X)\n",
    "from sklearn.ensemble import RandomForestClassifier\n",
    "X_train, X_test, y_train, y_test = train_test_split(X_new, y_new, test_size=0.20, random_state=92)\n",
    "\n",
    "clf = RandomForestClassifier(n_estimators=50).fit(X_train, y_train)\n",
    "y_pred = clf.predict(X_test)\n",
    "\n",
    "from sklearn.metrics import confusion_matrix, classification_report\n",
    "print(confusion_matrix(y_test, y_pred))\n",
    "print('\\n')\n",
    "print(classification_report(y_test, y_pred))"
   ]
  },
  {
   "cell_type": "markdown",
   "metadata": {},
   "source": [
    "# DO NOT USE ANYTHING BELOW"
   ]
  },
  {
   "cell_type": "code",
   "execution_count": 5,
   "metadata": {},
   "outputs": [
    {
     "name": "stdout",
     "output_type": "stream",
     "text": [
      "['movie', 'gets', 'respect', 'sure', 'lot', 'memorable', 'quotes', 'listed', 'gem', 'Imagine', 'movie', 'Joe', 'Piscopo', 'actually', 'funny', 'Maureen', 'Stapleton', 'scene', 'stealer', 'Moroni', 'character', 'absolute', 'scream', 'Watch', 'Alan', 'Skipper', 'Hale', 'jr', 'police', 'Sgt']\n",
      "For a movie that gets no respect there sure are a lot of memorable quotes listed for this gem. Imagine a movie where Joe Piscopo is actually funny! Maureen Stapleton is a scene stealer. The Moroni character is an absolute scream. Watch for Alan \"The Skipper\" Hale jr. as a police Sgt.\n"
     ]
    }
   ],
   "source": [
    "#TODO:\n",
    "#1) Stemming \n",
    "#2) Lemmization\n",
    "#3) Change output space to categories (pos, neutral, neg)\n",
    "#4) Evaluate model as a classification \n",
    "\n",
    "import string\n",
    "en_stop = get_stop_words('en') #FIXME: No is considered a stop word\n",
    "def text_process(text):\n",
    "    nopunc = [char for char in text if char not in string.punctuation]\n",
    "    nopunc = ''.join(nopunc)\n",
    "    return [word for word in nopunc.split() if word.lower() not in en_stop]\n",
    "print(text_process(X[0]))\n",
    "print(X[0])"
   ]
  },
  {
   "cell_type": "code",
   "execution_count": null,
   "metadata": {},
   "outputs": [],
   "source": []
  },
  {
   "cell_type": "code",
   "execution_count": 6,
   "metadata": {},
   "outputs": [
    {
     "name": "stdout",
     "output_type": "stream",
     "text": [
      "214905\n"
     ]
    }
   ],
   "source": [
    "bow_transformer = CountVectorizer(analyzer=text_process).fit(X)\n",
    "print(len(bow_transformer.vocabulary_))"
   ]
  },
  {
   "cell_type": "code",
   "execution_count": 7,
   "metadata": {},
   "outputs": [
    {
     "name": "stdout",
     "output_type": "stream",
     "text": [
      "Shape of Sparse Matrix:  (50000, 214905)\n"
     ]
    }
   ],
   "source": [
    "X = bow_transformer.transform(X)\n",
    "print('Shape of Sparse Matrix: ', X.shape)\n",
    "X = TruncatedSVD(n_components=50).fit_transform(X)"
   ]
  },
  {
   "cell_type": "code",
   "execution_count": 8,
   "metadata": {},
   "outputs": [
    {
     "name": "stdout",
     "output_type": "stream",
     "text": [
      "Shape of Sparse Matrix:  (50000, 500)\n"
     ]
    }
   ],
   "source": [
    "print('Shape of Sparse Matrix: ', X.shape)\n",
    "#print('Amount of Non-Zero occurences: ', X.nnz)\n",
    "#density = (100.0 * X.nnz / (X.shape[0] * X.shape[1]))\n",
    "#print('density: {}'.format((density)))"
   ]
  },
  {
   "cell_type": "code",
   "execution_count": 9,
   "metadata": {},
   "outputs": [],
   "source": [
    "X_train, X_test, y_train, y_test = train_test_split(X, y, test_size=0.20, random_state=92)"
   ]
  },
  {
   "cell_type": "code",
   "execution_count": 10,
   "metadata": {},
   "outputs": [
    {
     "name": "stdout",
     "output_type": "stream",
     "text": [
      "2.912956710655954\n"
     ]
    }
   ],
   "source": [
    "clf = RandomForestRegressor(n_estimators=50).fit(X_train, y_train)\n",
    "y_pred = clf.predict(X_test)\n",
    "rmse = np.sqrt(mean_squared_error(y_pred, y_test))\n",
    "print(rmse)"
   ]
  },
  {
   "cell_type": "code",
   "execution_count": 14,
   "metadata": {},
   "outputs": [],
   "source": [
    "# en_stop = get_stop_words('en')\n",
    "# tokenizer = RegexpTokenizer(r'\\w+')\n",
    "# p_stemmer = PorterStemmer()\n",
    "# vectorizer = CountVectorizer()\n",
    "# X = vectorizer.fit_transform(data['text'])\n",
    "# X = TruncatedSVD(n_components=50).fit_transform(X)"
   ]
  },
  {
   "cell_type": "code",
   "execution_count": 5,
   "metadata": {},
   "outputs": [
    {
     "data": {
      "text/plain": [
       "array([[ 3.19288695, -0.05305406, -0.66116401, ...,  0.10113894,\n",
       "         0.33951692,  0.41442783],\n",
       "       [11.59245027, -3.23250713, -0.11666337, ..., -0.25401356,\n",
       "         0.39181239,  1.31366485],\n",
       "       [ 6.51584894, -1.85851634,  0.03288393, ..., -0.62419326,\n",
       "        -0.28197579,  0.17419579],\n",
       "       ...,\n",
       "       [32.58961625,  0.23972314, -0.59841473, ...,  0.29780136,\n",
       "        -0.78280033,  0.86414643],\n",
       "       [23.1264474 ,  1.12994973, -2.75848689, ..., -0.91031717,\n",
       "         0.22480928, -0.09767869],\n",
       "       [ 2.69147608, -0.26845077, -0.35913667, ...,  0.52262555,\n",
       "        -0.03752499,  0.26628965]])"
      ]
     },
     "execution_count": 5,
     "metadata": {},
     "output_type": "execute_result"
    }
   ],
   "source": [
    "# X"
   ]
  },
  {
   "cell_type": "code",
   "execution_count": 11,
   "metadata": {},
   "outputs": [],
   "source": [
    "#min_max_scaler = preprocessing.MinMaxScaler()\n",
    "#y = min_max_scaler.fit_transform([data['rating']])\n",
    "#y = data['rating']\n",
    "#df = df/df.max().astype(np.float64)\n",
    "#y = y/y.max()"
   ]
  },
  {
   "cell_type": "code",
   "execution_count": 12,
   "metadata": {},
   "outputs": [],
   "source": [
    "X_train, X_test, y_train, y_test = train_test_split(X, y, test_size=0.20, random_state=92)"
   ]
  },
  {
   "cell_type": "code",
   "execution_count": 13,
   "metadata": {},
   "outputs": [
    {
     "name": "stdout",
     "output_type": "stream",
     "text": [
      "3.1077622710454116\n"
     ]
    }
   ],
   "source": [
    "clf = RandomForestRegressor(n_estimators=15).fit(X_train, y_train)\n",
    "y_pred = clf.predict(X_test)\n",
    "rmse = np.sqrt(mean_squared_error(y_pred, y_test))\n",
    "print(rmse)"
   ]
  },
  {
   "cell_type": "code",
   "execution_count": null,
   "metadata": {},
   "outputs": [],
   "source": [
    "#clf = SVR(kernel='rbf').fit(X_train, y_train)\n",
    "#y_pred = clf.predict(X_test)\n",
    "#np.sqrt(mean_squared_error(y_pred, y_test))"
   ]
  },
  {
   "cell_type": "code",
   "execution_count": null,
   "metadata": {},
   "outputs": [],
   "source": []
  }
 ],
 "metadata": {
  "kernelspec": {
   "display_name": "Python 3",
   "language": "python",
   "name": "python3"
  },
  "language_info": {
   "codemirror_mode": {
    "name": "ipython",
    "version": 3
   },
   "file_extension": ".py",
   "mimetype": "text/x-python",
   "name": "python",
   "nbconvert_exporter": "python",
   "pygments_lexer": "ipython3",
   "version": "3.6.6"
  }
 },
 "nbformat": 4,
 "nbformat_minor": 2
}
