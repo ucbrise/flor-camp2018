{
 "cells": [
  {
   "cell_type": "code",
   "execution_count": 1,
   "metadata": {},
   "outputs": [],
   "source": [
    "%load_ext autoreload\n",
    "%autoreload 2"
   ]
  },
  {
   "cell_type": "code",
   "execution_count": 67,
   "metadata": {},
   "outputs": [],
   "source": [
    "import flor"
   ]
  },
  {
   "cell_type": "code",
   "execution_count": 68,
   "metadata": {
    "scrolled": true
   },
   "outputs": [
    {
     "data": {
      "text/html": [
       "<div>\n",
       "<style scoped>\n",
       "    .dataframe tbody tr th:only-of-type {\n",
       "        vertical-align: middle;\n",
       "    }\n",
       "\n",
       "    .dataframe tbody tr th {\n",
       "        vertical-align: top;\n",
       "    }\n",
       "\n",
       "    .dataframe thead th {\n",
       "        text-align: right;\n",
       "    }\n",
       "</style>\n",
       "<table border=\"1\" class=\"dataframe\">\n",
       "  <thead>\n",
       "    <tr style=\"text-align: right;\">\n",
       "      <th></th>\n",
       "      <th>utag</th>\n",
       "      <th>model_accuracy</th>\n",
       "      <th>alpha</th>\n",
       "      <th>frac</th>\n",
       "      <th>seed</th>\n",
       "      <th>intermediary</th>\n",
       "      <th>split</th>\n",
       "      <th>test_df</th>\n",
       "      <th>test</th>\n",
       "      <th>train</th>\n",
       "      <th>tweets_loc</th>\n",
       "      <th>tweet_df</th>\n",
       "    </tr>\n",
       "  </thead>\n",
       "  <tbody>\n",
       "    <tr>\n",
       "      <th>0</th>\n",
       "      <td>second</td>\n",
       "      <td>0.574072</td>\n",
       "      <td>1.0</td>\n",
       "      <td>0.75</td>\n",
       "      <td>42</td>\n",
       "      <td>model_4469759000.pkl</td>\n",
       "      <td>split_4469756144.py</td>\n",
       "      <td>testing_tweets_4469756760.pkl</td>\n",
       "      <td>test_model2_4469757432.py</td>\n",
       "      <td>train_model_4469757600.py</td>\n",
       "      <td>tweets_4378778704.csv</td>\n",
       "      <td>training_tweets_4469756480.pkl</td>\n",
       "    </tr>\n",
       "    <tr>\n",
       "      <th>1</th>\n",
       "      <td>second</td>\n",
       "      <td>0.695059</td>\n",
       "      <td>0.2</td>\n",
       "      <td>0.75</td>\n",
       "      <td>42</td>\n",
       "      <td>model_4469758048.pkl</td>\n",
       "      <td>split_4469756144.py</td>\n",
       "      <td>testing_tweets_4469756760.pkl</td>\n",
       "      <td>test_model2_4469757432.py</td>\n",
       "      <td>train_model_4469757600.py</td>\n",
       "      <td>tweets_4378778704.csv</td>\n",
       "      <td>training_tweets_4469756480.pkl</td>\n",
       "    </tr>\n",
       "    <tr>\n",
       "      <th>2</th>\n",
       "      <td>first</td>\n",
       "      <td>0.574072</td>\n",
       "      <td>1.0</td>\n",
       "      <td>0.75</td>\n",
       "      <td>42</td>\n",
       "      <td>model_111834289320.pkl</td>\n",
       "      <td>split_90346037544.py</td>\n",
       "      <td>testing_tweets_111834135408.pkl</td>\n",
       "      <td>test_model2_4397582096.py</td>\n",
       "      <td>train_model_90344884768.py</td>\n",
       "      <td>tweets_111834135688.csv</td>\n",
       "      <td>training_tweets_111834134344.pkl</td>\n",
       "    </tr>\n",
       "    <tr>\n",
       "      <th>3</th>\n",
       "      <td>first</td>\n",
       "      <td>0.695059</td>\n",
       "      <td>0.2</td>\n",
       "      <td>0.75</td>\n",
       "      <td>42</td>\n",
       "      <td>model_111834133560.pkl</td>\n",
       "      <td>split_90346037544.py</td>\n",
       "      <td>testing_tweets_111834135408.pkl</td>\n",
       "      <td>test_model2_4397582096.py</td>\n",
       "      <td>train_model_90344884768.py</td>\n",
       "      <td>tweets_111834135688.csv</td>\n",
       "      <td>training_tweets_111834134344.pkl</td>\n",
       "    </tr>\n",
       "  </tbody>\n",
       "</table>\n",
       "</div>"
      ],
      "text/plain": [
       "     utag  model_accuracy  alpha  frac  seed            intermediary  \\\n",
       "0  second        0.574072    1.0  0.75    42    model_4469759000.pkl   \n",
       "1  second        0.695059    0.2  0.75    42    model_4469758048.pkl   \n",
       "2   first        0.574072    1.0  0.75    42  model_111834289320.pkl   \n",
       "3   first        0.695059    0.2  0.75    42  model_111834133560.pkl   \n",
       "\n",
       "                  split                          test_df  \\\n",
       "0   split_4469756144.py    testing_tweets_4469756760.pkl   \n",
       "1   split_4469756144.py    testing_tweets_4469756760.pkl   \n",
       "2  split_90346037544.py  testing_tweets_111834135408.pkl   \n",
       "3  split_90346037544.py  testing_tweets_111834135408.pkl   \n",
       "\n",
       "                        test                       train  \\\n",
       "0  test_model2_4469757432.py   train_model_4469757600.py   \n",
       "1  test_model2_4469757432.py   train_model_4469757600.py   \n",
       "2  test_model2_4397582096.py  train_model_90344884768.py   \n",
       "3  test_model2_4397582096.py  train_model_90344884768.py   \n",
       "\n",
       "                tweets_loc                          tweet_df  \n",
       "0    tweets_4378778704.csv    training_tweets_4469756480.pkl  \n",
       "1    tweets_4378778704.csv    training_tweets_4469756480.pkl  \n",
       "2  tweets_111834135688.csv  training_tweets_111834134344.pkl  \n",
       "3  tweets_111834135688.csv  training_tweets_111834134344.pkl  "
      ]
     },
     "execution_count": 68,
     "metadata": {},
     "output_type": "execute_result"
    }
   ],
   "source": [
    "flor.Experiment('twitter_demo').summarize()"
   ]
  },
  {
   "cell_type": "code",
   "execution_count": null,
   "metadata": {},
   "outputs": [],
   "source": []
  }
 ],
 "metadata": {
  "kernelspec": {
   "display_name": "Python 3",
   "language": "python",
   "name": "python3"
  },
  "language_info": {
   "codemirror_mode": {
    "name": "ipython",
    "version": 3
   },
   "file_extension": ".py",
   "mimetype": "text/x-python",
   "name": "python",
   "nbconvert_exporter": "python",
   "pygments_lexer": "ipython3",
   "version": "3.6.4"
  }
 },
 "nbformat": 4,
 "nbformat_minor": 2
}
