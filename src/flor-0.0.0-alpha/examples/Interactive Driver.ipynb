{
 "cells": [
  {
   "cell_type": "code",
   "execution_count": 1,
   "metadata": {
    "collapsed": true
   },
   "outputs": [],
   "source": [
    "import networkx as nx\n",
    "import flor\n",
    "%load_ext autoreload\n",
    "%autoreload 2"
   ]
  },
  {
   "cell_type": "code",
   "execution_count": 2,
   "metadata": {},
   "outputs": [
    {
     "name": "stdout",
     "output_type": "stream",
     "text": [
      "Requirement already up-to-date: plotly in /Users/jegonzal/anaconda3/envs/flor/lib/python3.6/site-packages\n",
      "Requirement already up-to-date: six in /Users/jegonzal/anaconda3/envs/flor/lib/python3.6/site-packages (from plotly)\n",
      "Requirement already up-to-date: decorator>=4.0.6 in /Users/jegonzal/anaconda3/envs/flor/lib/python3.6/site-packages (from plotly)\n",
      "Requirement already up-to-date: requests in /Users/jegonzal/anaconda3/envs/flor/lib/python3.6/site-packages (from plotly)\n",
      "Requirement already up-to-date: pytz in /Users/jegonzal/anaconda3/envs/flor/lib/python3.6/site-packages (from plotly)\n",
      "Requirement already up-to-date: nbformat>=4.2 in /Users/jegonzal/anaconda3/envs/flor/lib/python3.6/site-packages (from plotly)\n",
      "Requirement already up-to-date: chardet<3.1.0,>=3.0.2 in /Users/jegonzal/anaconda3/envs/flor/lib/python3.6/site-packages (from requests->plotly)\n",
      "Requirement already up-to-date: certifi>=2017.4.17 in /Users/jegonzal/anaconda3/envs/flor/lib/python3.6/site-packages (from requests->plotly)\n",
      "Requirement already up-to-date: idna<2.7,>=2.5 in /Users/jegonzal/anaconda3/envs/flor/lib/python3.6/site-packages (from requests->plotly)\n",
      "Requirement already up-to-date: urllib3<1.23,>=1.21.1 in /Users/jegonzal/anaconda3/envs/flor/lib/python3.6/site-packages (from requests->plotly)\n",
      "Requirement already up-to-date: traitlets>=4.1 in /Users/jegonzal/anaconda3/envs/flor/lib/python3.6/site-packages (from nbformat>=4.2->plotly)\n",
      "Requirement already up-to-date: jsonschema!=2.5.0,>=2.4 in /Users/jegonzal/anaconda3/envs/flor/lib/python3.6/site-packages (from nbformat>=4.2->plotly)\n",
      "Requirement already up-to-date: jupyter-core in /Users/jegonzal/anaconda3/envs/flor/lib/python3.6/site-packages (from nbformat>=4.2->plotly)\n",
      "Requirement already up-to-date: ipython-genutils in /Users/jegonzal/anaconda3/envs/flor/lib/python3.6/site-packages (from nbformat>=4.2->plotly)\n",
      "/Users/jegonzal/anaconda3/envs/flor/lib/python3.6/site-packages/pip/commands/install.py:194: UserWarning: Disabling all use of wheels due to the use of --build-options / --global-options / --install-options.\n",
      "  cmdoptions.check_install_build_global(options)\n",
      "Requirement already satisfied: pygraphviz in /Users/jegonzal/anaconda3/envs/flor/lib/python3.6/site-packages\n"
     ]
    }
   ],
   "source": [
    "!pip install -U plotly\n",
    "!pip install pygraphviz --install-option=\"--include-path=/usr/local/include/graphviz/\" --install-option=\"--library-path=/usr/local/lib/graphviz\""
   ]
  },
  {
   "cell_type": "code",
   "execution_count": 3,
   "metadata": {},
   "outputs": [
    {
     "data": {
      "text/html": [
       "<script>requirejs.config({paths: { 'plotly': ['https://cdn.plot.ly/plotly-latest.min']},});if(!window.Plotly) {{require(['plotly'],function(plotly) {window.Plotly=plotly;});}}</script>"
      ],
      "text/vnd.plotly.v1+html": [
       "<script>requirejs.config({paths: { 'plotly': ['https://cdn.plot.ly/plotly-latest.min']},});if(!window.Plotly) {{require(['plotly'],function(plotly) {window.Plotly=plotly;});}}</script>"
      ]
     },
     "metadata": {},
     "output_type": "display_data"
    }
   ],
   "source": [
    "import plotly.offline as py\n",
    "py.init_notebook_mode(connected=True)\n",
    "import plotly.graph_objs as go"
   ]
  },
  {
   "cell_type": "code",
   "execution_count": 5,
   "metadata": {
    "collapsed": true
   },
   "outputs": [],
   "source": [
    "from crawl import tr_crawl\n",
    "tr_crawler = flor.Action(tr_crawl)\n",
    "training_tweets = flor.Artifact('training_tweets.csv', tr_crawler)\n",
    "\n",
    "from clean import clean\n",
    "tr_cleaner = flor.Action(clean, [training_tweets])\n",
    "clean_training_tweets = flor.Artifact('clean_training_tweets.pkl', tr_cleaner)\n",
    "\n",
    "from train_model import train\n",
    "trainer = flor.Action(train, [clean_training_tweets])\n",
    "intermediary = flor.Artifact('intermediary.pkl', trainer)\n",
    "\n",
    "from crawl import te_crawl\n",
    "te_crawler = flor.Action(te_crawl)\n",
    "testing_tweets = flor.Artifact('testing_tweets.csv', te_crawler)\n",
    "\n",
    "te_cleaner = flor.Action(clean, [testing_tweets])\n",
    "clean_testing_tweets = flor.Artifact('clean_testing_tweets.pkl', te_cleaner)\n",
    "\n",
    "from test_model import test\n",
    "tester = flor.Action(test, [intermediary, clean_testing_tweets])\n",
    "model_accuracy = flor.Artifact('model_accuracy.txt', tester)\n",
    "\n"
   ]
  },
  {
   "cell_type": "code",
   "execution_count": 6,
   "metadata": {
    "collapsed": true
   },
   "outputs": [],
   "source": [
    "model_accuracy.pull()"
   ]
  },
  {
   "cell_type": "code",
   "execution_count": 7,
   "metadata": {
    "collapsed": true
   },
   "outputs": [],
   "source": [
    "import plotly.offline as py\n",
    "import plotly.graph_objs as go\n",
    "\n",
    "def plot_graph(g):\n",
    "    # Graph layout could be tweaked a little: \n",
    "    # https://networkx.github.io/documentation/stable/reference/drawing.html#module-networkx.drawing.nx_pydot\n",
    "    pos = nx.nx_agraph.graphviz_layout(g, prog=\"dot\")\n",
    "    \n",
    "    node_trace = go.Scatter(\n",
    "        x=[pos[v][0] for v in g.nodes()],\n",
    "        y=[pos[v][1] for v in g.nodes()],\n",
    "        text=[g.node[v]['text'].replace(\"\\n\", \"<br>\") for v in g.nodes()],\n",
    "        mode='markers+text',\n",
    "        textposition=\"right\",\n",
    "        hoverinfo='text',\n",
    "        marker=dict(\n",
    "            size=10,\n",
    "            color=[\n",
    "                g.node[v]['shape'].replace(\"box\", \"red\").replace(\"ellipse\", \"blue\") for v in g.nodes()  \n",
    "            ],\n",
    "            symbol=[\n",
    "                g.node[v]['shape'].replace(\"box\", \"square\").replace(\"ellipse\", \"circle\") for v in g.nodes()\n",
    "        ]))\n",
    "    \n",
    "    edge_trace = go.Scatter(\n",
    "        x=[],\n",
    "        y=[],\n",
    "        line=dict(width=0.5,color='#888'),\n",
    "        hoverinfo='none',\n",
    "        mode='lines')\n",
    "\n",
    "    for edge in g.edges():\n",
    "        x0, y0 = pos[edge[0]]\n",
    "        x1, y1 = pos[edge[1]]\n",
    "        edge_trace['x'] += [x0, x1, None]\n",
    "        edge_trace['y'] += [y0, y1, None]\n",
    "    \n",
    "    fig = go.Figure(data=[node_trace, edge_trace],\n",
    "             layout=go.Layout(\n",
    "                title='Plot1',\n",
    "                titlefont=dict(size=16),\n",
    "                showlegend=False,\n",
    "                hovermode='closest',\n",
    "                margin=dict(b=20,l=5,r=5,t=40),\n",
    "                xaxis=go.XAxis(showgrid=False, zeroline=False, showticklabels=False,\n",
    "                               range=[0, max([pos[k][0] for k in pos])*1.3]),\n",
    "                yaxis=go.YAxis(showgrid=False, zeroline=False, showticklabels=False)))\n",
    "    py.iplot(fig)\n"
   ]
  },
  {
   "cell_type": "code",
   "execution_count": 8,
   "metadata": {},
   "outputs": [
    {
     "data": {
      "application/vnd.plotly.v1+json": {
       "data": [
        {
         "hoverinfo": "text",
         "marker": {
          "color": [
           "red",
           "blue",
           "red",
           "red",
           "blue",
           "red",
           "red",
           "blue",
           "red",
           "red",
           "blue",
           "red",
           "red",
           "blue",
           "red",
           "red",
           "blue",
           "red"
          ],
          "size": 10,
          "symbol": [
           "square",
           "circle",
           "square",
           "square",
           "circle",
           "square",
           "square",
           "circle",
           "square",
           "square",
           "circle",
           "square",
           "square",
           "circle",
           "square",
           "square",
           "circle",
           "square"
          ]
         },
         "mode": "markers+text",
         "text": [
          "model_accuracy.txt<br>37085d...",
          "test_model",
          "test_model.py<br>37085d...",
          "intermediary.pkl<br>2400dc...",
          "train_model",
          "train_model.py<br>37085d...",
          "clean_training_tweets.pkl<br>37085d...",
          "clean",
          "clean.py<br>a7548f...",
          "training_tweets.csv<br>37085d...",
          "crawl",
          "crawl.py<br>a7548f...",
          "clean_testing_tweets.pkl<br>37085d...",
          "clean",
          "clean.py<br>a7548f...",
          "testing_tweets.csv<br>37085d...",
          "crawl",
          "crawl.py<br>a7548f..."
         ],
         "textposition": "right",
         "type": "scatter",
         "x": [
          99,
          99,
          27,
          99,
          99,
          27,
          99,
          99,
          63,
          135,
          135,
          135,
          171,
          171,
          171,
          243,
          243,
          243
         ],
         "y": [
          594,
          522,
          450,
          450,
          378,
          306,
          306,
          234,
          162,
          162,
          90,
          18,
          450,
          378,
          306,
          306,
          234,
          162
         ]
        },
        {
         "hoverinfo": "none",
         "line": {
          "color": "#888",
          "width": 0.5
         },
         "mode": "lines",
         "type": "scatter",
         "x": [
          99,
          99,
          null,
          99,
          27,
          null,
          99,
          99,
          null,
          99,
          171,
          null,
          99,
          99,
          null,
          99,
          27,
          null,
          99,
          99,
          null,
          99,
          99,
          null,
          99,
          63,
          null,
          99,
          135,
          null,
          135,
          135,
          null,
          135,
          135,
          null,
          171,
          171,
          null,
          171,
          171,
          null,
          171,
          243,
          null,
          243,
          243,
          null,
          243,
          243,
          null
         ],
         "y": [
          594,
          522,
          null,
          522,
          450,
          null,
          522,
          450,
          null,
          522,
          450,
          null,
          450,
          378,
          null,
          378,
          306,
          null,
          378,
          306,
          null,
          306,
          234,
          null,
          234,
          162,
          null,
          234,
          162,
          null,
          162,
          90,
          null,
          90,
          18,
          null,
          450,
          378,
          null,
          378,
          306,
          null,
          378,
          306,
          null,
          306,
          234,
          null,
          234,
          162,
          null
         ]
        }
       ],
       "layout": {
        "hovermode": "closest",
        "margin": {
         "b": 20,
         "l": 5,
         "r": 5,
         "t": 40
        },
        "showlegend": false,
        "title": "Plot1",
        "titlefont": {
         "size": 16
        },
        "xaxis": {
         "range": [
          0,
          315.90000000000003
         ],
         "showgrid": false,
         "showticklabels": false,
         "zeroline": false
        },
        "yaxis": {
         "showgrid": false,
         "showticklabels": false,
         "zeroline": false
        }
       }
      },
      "text/html": [
       "<div id=\"a99885ea-1ced-4e54-bcd1-370d8837c76f\" style=\"height: 525px; width: 100%;\" class=\"plotly-graph-div\"></div><script type=\"text/javascript\">require([\"plotly\"], function(Plotly) { window.PLOTLYENV=window.PLOTLYENV || {};window.PLOTLYENV.BASE_URL=\"https://plot.ly\";Plotly.newPlot(\"a99885ea-1ced-4e54-bcd1-370d8837c76f\", [{\"type\": \"scatter\", \"x\": [99.0, 99.0, 27.0, 99.0, 99.0, 27.0, 99.0, 99.0, 63.0, 135.0, 135.0, 135.0, 171.0, 171.0, 171.0, 243.0, 243.0, 243.0], \"y\": [594.0, 522.0, 450.0, 450.0, 378.0, 306.0, 306.0, 234.0, 162.0, 162.0, 90.0, 18.0, 450.0, 378.0, 306.0, 306.0, 234.0, 162.0], \"text\": [\"model_accuracy.txt<br>37085d...\", \"test_model\", \"test_model.py<br>37085d...\", \"intermediary.pkl<br>2400dc...\", \"train_model\", \"train_model.py<br>37085d...\", \"clean_training_tweets.pkl<br>37085d...\", \"clean\", \"clean.py<br>a7548f...\", \"training_tweets.csv<br>37085d...\", \"crawl\", \"crawl.py<br>a7548f...\", \"clean_testing_tweets.pkl<br>37085d...\", \"clean\", \"clean.py<br>a7548f...\", \"testing_tweets.csv<br>37085d...\", \"crawl\", \"crawl.py<br>a7548f...\"], \"mode\": \"markers+text\", \"textposition\": \"right\", \"hoverinfo\": \"text\", \"marker\": {\"size\": 10, \"color\": [\"red\", \"blue\", \"red\", \"red\", \"blue\", \"red\", \"red\", \"blue\", \"red\", \"red\", \"blue\", \"red\", \"red\", \"blue\", \"red\", \"red\", \"blue\", \"red\"], \"symbol\": [\"square\", \"circle\", \"square\", \"square\", \"circle\", \"square\", \"square\", \"circle\", \"square\", \"square\", \"circle\", \"square\", \"square\", \"circle\", \"square\", \"square\", \"circle\", \"square\"]}}, {\"type\": \"scatter\", \"x\": [99.0, 99.0, null, 99.0, 27.0, null, 99.0, 99.0, null, 99.0, 171.0, null, 99.0, 99.0, null, 99.0, 27.0, null, 99.0, 99.0, null, 99.0, 99.0, null, 99.0, 63.0, null, 99.0, 135.0, null, 135.0, 135.0, null, 135.0, 135.0, null, 171.0, 171.0, null, 171.0, 171.0, null, 171.0, 243.0, null, 243.0, 243.0, null, 243.0, 243.0, null], \"y\": [594.0, 522.0, null, 522.0, 450.0, null, 522.0, 450.0, null, 522.0, 450.0, null, 450.0, 378.0, null, 378.0, 306.0, null, 378.0, 306.0, null, 306.0, 234.0, null, 234.0, 162.0, null, 234.0, 162.0, null, 162.0, 90.0, null, 90.0, 18.0, null, 450.0, 378.0, null, 378.0, 306.0, null, 378.0, 306.0, null, 306.0, 234.0, null, 234.0, 162.0, null], \"line\": {\"width\": 0.5, \"color\": \"#888\"}, \"hoverinfo\": \"none\", \"mode\": \"lines\"}], {\"title\": \"Plot1\", \"titlefont\": {\"size\": 16}, \"showlegend\": false, \"hovermode\": \"closest\", \"margin\": {\"b\": 20, \"l\": 5, \"r\": 5, \"t\": 40}, \"xaxis\": {\"showgrid\": false, \"zeroline\": false, \"showticklabels\": false, \"range\": [0, 315.90000000000003]}, \"yaxis\": {\"showgrid\": false, \"zeroline\": false, \"showticklabels\": false}}, {\"showLink\": true, \"linkText\": \"Export to plot.ly\"})});</script>"
      ],
      "text/vnd.plotly.v1+html": [
       "<div id=\"a99885ea-1ced-4e54-bcd1-370d8837c76f\" style=\"height: 525px; width: 100%;\" class=\"plotly-graph-div\"></div><script type=\"text/javascript\">require([\"plotly\"], function(Plotly) { window.PLOTLYENV=window.PLOTLYENV || {};window.PLOTLYENV.BASE_URL=\"https://plot.ly\";Plotly.newPlot(\"a99885ea-1ced-4e54-bcd1-370d8837c76f\", [{\"type\": \"scatter\", \"x\": [99.0, 99.0, 27.0, 99.0, 99.0, 27.0, 99.0, 99.0, 63.0, 135.0, 135.0, 135.0, 171.0, 171.0, 171.0, 243.0, 243.0, 243.0], \"y\": [594.0, 522.0, 450.0, 450.0, 378.0, 306.0, 306.0, 234.0, 162.0, 162.0, 90.0, 18.0, 450.0, 378.0, 306.0, 306.0, 234.0, 162.0], \"text\": [\"model_accuracy.txt<br>37085d...\", \"test_model\", \"test_model.py<br>37085d...\", \"intermediary.pkl<br>2400dc...\", \"train_model\", \"train_model.py<br>37085d...\", \"clean_training_tweets.pkl<br>37085d...\", \"clean\", \"clean.py<br>a7548f...\", \"training_tweets.csv<br>37085d...\", \"crawl\", \"crawl.py<br>a7548f...\", \"clean_testing_tweets.pkl<br>37085d...\", \"clean\", \"clean.py<br>a7548f...\", \"testing_tweets.csv<br>37085d...\", \"crawl\", \"crawl.py<br>a7548f...\"], \"mode\": \"markers+text\", \"textposition\": \"right\", \"hoverinfo\": \"text\", \"marker\": {\"size\": 10, \"color\": [\"red\", \"blue\", \"red\", \"red\", \"blue\", \"red\", \"red\", \"blue\", \"red\", \"red\", \"blue\", \"red\", \"red\", \"blue\", \"red\", \"red\", \"blue\", \"red\"], \"symbol\": [\"square\", \"circle\", \"square\", \"square\", \"circle\", \"square\", \"square\", \"circle\", \"square\", \"square\", \"circle\", \"square\", \"square\", \"circle\", \"square\", \"square\", \"circle\", \"square\"]}}, {\"type\": \"scatter\", \"x\": [99.0, 99.0, null, 99.0, 27.0, null, 99.0, 99.0, null, 99.0, 171.0, null, 99.0, 99.0, null, 99.0, 27.0, null, 99.0, 99.0, null, 99.0, 99.0, null, 99.0, 63.0, null, 99.0, 135.0, null, 135.0, 135.0, null, 135.0, 135.0, null, 171.0, 171.0, null, 171.0, 171.0, null, 171.0, 243.0, null, 243.0, 243.0, null, 243.0, 243.0, null], \"y\": [594.0, 522.0, null, 522.0, 450.0, null, 522.0, 450.0, null, 522.0, 450.0, null, 450.0, 378.0, null, 378.0, 306.0, null, 378.0, 306.0, null, 306.0, 234.0, null, 234.0, 162.0, null, 234.0, 162.0, null, 162.0, 90.0, null, 90.0, 18.0, null, 450.0, 378.0, null, 378.0, 306.0, null, 378.0, 306.0, null, 306.0, 234.0, null, 234.0, 162.0, null], \"line\": {\"width\": 0.5, \"color\": \"#888\"}, \"hoverinfo\": \"none\", \"mode\": \"lines\"}], {\"title\": \"Plot1\", \"titlefont\": {\"size\": 16}, \"showlegend\": false, \"hovermode\": \"closest\", \"margin\": {\"b\": 20, \"l\": 5, \"r\": 5, \"t\": 40}, \"xaxis\": {\"showgrid\": false, \"zeroline\": false, \"showticklabels\": false, \"range\": [0, 315.90000000000003]}, \"yaxis\": {\"showgrid\": false, \"zeroline\": false, \"showticklabels\": false}}, {\"showLink\": true, \"linkText\": \"Export to plot.ly\"})});</script>"
      ]
     },
     "metadata": {},
     "output_type": "display_data"
    }
   ],
   "source": [
    "\n",
    "## Make Plot\n",
    "g = model_accuracy.to_graph()\n",
    "plot_graph(g)"
   ]
  }
 ],
 "metadata": {
  "kernelspec": {
   "display_name": "Python 3",
   "language": "python",
   "name": "python3"
  },
  "language_info": {
   "codemirror_mode": {
    "name": "ipython",
    "version": 3
   },
   "file_extension": ".py",
   "mimetype": "text/x-python",
   "name": "python",
   "nbconvert_exporter": "python",
   "pygments_lexer": "ipython3",
   "version": "3.6.1"
  }
 },
 "nbformat": 4,
 "nbformat_minor": 2
}
