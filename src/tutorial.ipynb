{
 "cells": [
  {
   "cell_type": "code",
   "execution_count": 41,
   "metadata": {},
   "outputs": [],
   "source": [
    "import pandas as pd\n",
    "import numpy as np\n",
    "import nltk\n",
    "import json\n",
    "import time\n",
    "import random\n",
    "\n",
    "from stop_words import get_stop_words\n",
    "from nltk.stem import WordNetLemmatizer\n",
    "from nltk.tokenize import word_tokenize\n",
    "from nltk.stem.porter import PorterStemmer\n",
    "from sklearn.feature_extraction.text import TfidfVectorizer\n",
    "from sklearn.model_selection import train_test_split\n",
    "from sklearn.ensemble import RandomForestClassifier\n",
    "from sklearn.metrics import confusion_matrix, classification_report"
   ]
  },
  {
   "cell_type": "code",
   "execution_count": 42,
   "metadata": {},
   "outputs": [],
   "source": [
    "data = pd.read_json('data.json')\n",
    "X = data['text']\n",
    "y = data['rating'].astype(np.float64)"
   ]
  },
  {
   "cell_type": "code",
   "execution_count": 43,
   "metadata": {},
   "outputs": [
    {
     "name": "stdout",
     "output_type": "stream",
     "text": [
      "--- 415.33158898353577 seconds ---\n"
     ]
    }
   ],
   "source": [
    "'''\n",
    "\n",
    "Data Preprocessing\n",
    "\n",
    "'''\n",
    "en_stop = get_stop_words('en')\n",
    "\n",
    "def filter_sentence(el):\n",
    "    tokens = word_tokenize(el)\n",
    "    tokens = [word for word in tokens if word.isalpha()]\n",
    "    tokens = [word for word in tokens if word not in en_stop]\n",
    "    tokens = stem_words(tokens)\n",
    "    tokens = lemma_words(tokens)\n",
    "    \n",
    "    #tokens = [el for el in tokens if random.random() >= 0.75]\n",
    "    ret_str = \" \".join(tokens) \n",
    "    \n",
    "    return ret_str \n",
    "\n",
    "\n",
    "#Credit to https://www.kdnuggets.com/2018/03/text-data-preprocessing-walkthrough-python.html\n",
    "#for stem_words and lemma_words\n",
    "def stem_words(words):\n",
    "    stemmer = PorterStemmer()\n",
    "    stems = []\n",
    "    for word in words:\n",
    "        stem = stemmer.stem(word)\n",
    "        stems.append(stem)\n",
    "    return stems\n",
    "\n",
    "def lemma_words(words):\n",
    "    lemmatizer = WordNetLemmatizer()\n",
    "    lemmas = []\n",
    "    for word in words:\n",
    "        lemma = lemmatizer.lemmatize(word, pos='v')\n",
    "        lemmas.append(lemma)\n",
    "    return lemmas\n",
    "\n",
    "start_time = time.time()\n",
    "X = [filter_sentence(el) for el in X]\n",
    "print(\"--- %s seconds ---\" % (time.time() - start_time))\n",
    "\n",
    "y_new = []\n",
    "for el in y:\n",
    "    ret = 0\n",
    "    if el <= 5:\n",
    "        ret = 0\n",
    "    else:\n",
    "        ret = 1\n",
    "    y_new.append(ret)\n",
    "y = y_new"
   ]
  },
  {
   "cell_type": "code",
   "execution_count": 44,
   "metadata": {},
   "outputs": [],
   "source": [
    "with open('data_clean_X.json', 'w') as outfile:\n",
    "    json.dump(X, outfile)\n",
    "with open('data_clean_y.json', 'w') as outfile:\n",
    "    json.dump(y, outfile)"
   ]
  },
  {
   "cell_type": "code",
   "execution_count": 45,
   "metadata": {},
   "outputs": [],
   "source": [
    "with open('data_clean_X.json') as json_data:\n",
    "    X = json.load(json_data)\n",
    "    json_data.close()\n",
    "with open('data_clean_y.json') as json_data:\n",
    "    y = json.load(json_data)\n",
    "    json_data.close()"
   ]
  },
  {
   "cell_type": "code",
   "execution_count": 46,
   "metadata": {},
   "outputs": [],
   "source": [
    "# vectorizer = TfidfVectorizer()\n",
    "# start_time = time.time()\n",
    "# X = vectorizer.fit_transform(X)\n",
    "# print(\"--- %s seconds ---\" % (time.time() - start_time))\n",
    "# print('Shape of Sparse Matrix: ', X.shape)"
   ]
  },
  {
   "cell_type": "code",
   "execution_count": 47,
   "metadata": {},
   "outputs": [],
   "source": [
    "X_train, X_test, y_train, y_test = train_test_split(X, y, test_size=0.20, random_state=92)"
   ]
  },
  {
   "cell_type": "code",
   "execution_count": 48,
   "metadata": {},
   "outputs": [
    {
     "name": "stdout",
     "output_type": "stream",
     "text": [
      "--- 14.93538522720337 seconds ---\n",
      "Shape of Sparse Train Matrix:  (40000, 60975)\n"
     ]
    }
   ],
   "source": [
    "def train_drop(el):\n",
    "    tokens = word_tokenize(el)\n",
    "    tokens = [el for el in tokens if random.random() >= 0.75]\n",
    "    ret_str = \" \".join(tokens) \n",
    "    return ret_str \n",
    "#X_train = [train_drop(el) for el in X_train]\n",
    "vectorizer = TfidfVectorizer()\n",
    "start_time = time.time()\n",
    "vectorizer.fit(X_train)\n",
    "X_train = vectorizer.transform(X_train)\n",
    "X_test = vectorizer.transform(X_test)\n",
    "\n",
    "print(\"--- %s seconds ---\" % (time.time() - start_time))\n",
    "print('Shape of Sparse Train Matrix: ', X_train.shape)"
   ]
  },
  {
   "cell_type": "code",
   "execution_count": 49,
   "metadata": {},
   "outputs": [
    {
     "name": "stdout",
     "output_type": "stream",
     "text": [
      "--- 76.06661200523376 seconds ---\n",
      "[[4254  770]\n",
      " [ 853 4123]]\n",
      "\n",
      "\n",
      "             precision    recall  f1-score   support\n",
      "\n",
      "          0       0.83      0.85      0.84      5024\n",
      "          1       0.84      0.83      0.84      4976\n",
      "\n",
      "avg / total       0.84      0.84      0.84     10000\n",
      "\n"
     ]
    }
   ],
   "source": [
    "#X_train, X_test, y_train, y_test = train_test_split(X, y, test_size=0.20, random_state=92)\n",
    "\n",
    "start_time = time.time()\n",
    "clf = RandomForestClassifier(n_estimators=50).fit(X_train, y_train)\n",
    "y_pred = clf.predict(X_test)\n",
    "print(\"--- %s seconds ---\" % (time.time() - start_time))\n",
    "\n",
    "print(confusion_matrix(y_test, y_pred))\n",
    "print('\\n')\n",
    "print(classification_report(y_test, y_pred))"
   ]
  },
  {
   "cell_type": "code",
   "execution_count": null,
   "metadata": {},
   "outputs": [],
   "source": []
  }
 ],
 "metadata": {
  "kernelspec": {
   "display_name": "Python 3",
   "language": "python",
   "name": "python3"
  },
  "language_info": {
   "codemirror_mode": {
    "name": "ipython",
    "version": 3
   },
   "file_extension": ".py",
   "mimetype": "text/x-python",
   "name": "python",
   "nbconvert_exporter": "python",
   "pygments_lexer": "ipython3",
   "version": "3.6.5"
  }
 },
 "nbformat": 4,
 "nbformat_minor": 2
}
